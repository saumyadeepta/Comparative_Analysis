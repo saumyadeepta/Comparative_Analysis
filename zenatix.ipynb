{
  "nbformat": 4,
  "nbformat_minor": 0,
  "metadata": {
    "colab": {
      "name": "zenatix.ipynb",
      "provenance": [],
      "authorship_tag": "ABX9TyPThlHXSk5z3v4Ev4plnZOG",
      "include_colab_link": true
    },
    "kernelspec": {
      "name": "python3",
      "display_name": "Python 3"
    }
  },
  "cells": [
    {
      "cell_type": "markdown",
      "metadata": {
        "id": "view-in-github",
        "colab_type": "text"
      },
      "source": [
        "<a href=\"https://colab.research.google.com/github/saumyadeepta/Comparative_Analysis/blob/main/zenatix.ipynb\" target=\"_parent\"><img src=\"https://colab.research.google.com/assets/colab-badge.svg\" alt=\"Open In Colab\"/></a>"
      ]
    },
    {
      "cell_type": "code",
      "metadata": {
        "id": "omzndiPszJUj"
      },
      "source": [
        "import pandas as pd\n",
        "import numpy as np\n",
        "import matplotlib.pyplot as plt"
      ],
      "execution_count": null,
      "outputs": []
    },
    {
      "cell_type": "markdown",
      "metadata": {
        "id": "ajwBKSg5BjPi"
      },
      "source": [
        "# **Reading The Data**"
      ]
    },
    {
      "cell_type": "code",
      "metadata": {
        "id": "Uf6JVFlHzxwr",
        "outputId": "8536a0ea-210c-458c-ec06-b9f2b2ade15a",
        "colab": {
          "base_uri": "https://localhost:8080/",
          "height": 255
        }
      },
      "source": [
        "dfs = pd.read_excel('BA_Internship_Assignment.xlsx', sheet_name=None)\n",
        "dfs"
      ],
      "execution_count": null,
      "outputs": [
        {
          "output_type": "execute_result",
          "data": {
            "text/plain": [
              "{'Assignment':        Unnamed: 0           Unnamed: 1  ...              Unnamed: 8   Unnamed: 9\n",
              " 0             NaN             Datetime  ...  Refrigeration Unit - 4          NaN\n",
              " 1             NaN                  NaN  ...                   Power  Temperature\n",
              " 2             NaN  2017-08-01 00:00:00  ...                   0.308         3.34\n",
              " 3             NaN  2017-08-01 00:01:00  ...                   1.338        3.435\n",
              " 4             NaN  2017-08-01 00:02:00  ...                  2.3695        2.715\n",
              " ...           ...                  ...  ...                     ...          ...\n",
              " 14397         NaN  2017-08-10 23:55:00  ...                  0.3095        1.435\n",
              " 14398         NaN  2017-08-10 23:56:00  ...                   0.309         1.93\n",
              " 14399         NaN  2017-08-10 23:57:00  ...                   0.309         2.62\n",
              " 14400         NaN  2017-08-10 23:58:00  ...                   0.309        3.155\n",
              " 14401         NaN  2017-08-10 23:59:00  ...                   0.308        3.435\n",
              " \n",
              " [14402 rows x 10 columns]}"
            ]
          },
          "metadata": {
            "tags": []
          },
          "execution_count": 2
        }
      ]
    },
    {
      "cell_type": "markdown",
      "metadata": {
        "id": "qBz7EyVjBqlr"
      },
      "source": [
        "# **Cleaning and Seperating The Data**"
      ]
    },
    {
      "cell_type": "code",
      "metadata": {
        "id": "VqxgPtClz0kG"
      },
      "source": [
        "ref1_df = pd.DataFrame(columns=['Datatime','Power','Temperature'])\n",
        "ref2_df = pd.DataFrame(columns=['Datatime','Power','Temperature'])\n",
        "ref3_df = pd.DataFrame(columns=['Datatime','Power','Temperature'])\n",
        "ref4_df = pd.DataFrame(columns=['Datatime','Power','Temperature'])"
      ],
      "execution_count": null,
      "outputs": []
    },
    {
      "cell_type": "code",
      "metadata": {
        "id": "URk02i8S1d8Z",
        "outputId": "c8feae7b-e573-4e5c-f697-28af367432cc",
        "colab": {
          "base_uri": "https://localhost:8080/",
          "height": 745
        }
      },
      "source": [
        "dfs = dfs['Assignment']\n",
        "dfs"
      ],
      "execution_count": null,
      "outputs": [
        {
          "output_type": "execute_result",
          "data": {
            "text/html": [
              "<div>\n",
              "<style scoped>\n",
              "    .dataframe tbody tr th:only-of-type {\n",
              "        vertical-align: middle;\n",
              "    }\n",
              "\n",
              "    .dataframe tbody tr th {\n",
              "        vertical-align: top;\n",
              "    }\n",
              "\n",
              "    .dataframe thead th {\n",
              "        text-align: right;\n",
              "    }\n",
              "</style>\n",
              "<table border=\"1\" class=\"dataframe\">\n",
              "  <thead>\n",
              "    <tr style=\"text-align: right;\">\n",
              "      <th></th>\n",
              "      <th>Unnamed: 0</th>\n",
              "      <th>Unnamed: 1</th>\n",
              "      <th>Unnamed: 2</th>\n",
              "      <th>Unnamed: 3</th>\n",
              "      <th>Unnamed: 4</th>\n",
              "      <th>Unnamed: 5</th>\n",
              "      <th>Unnamed: 6</th>\n",
              "      <th>Unnamed: 7</th>\n",
              "      <th>Unnamed: 8</th>\n",
              "      <th>Unnamed: 9</th>\n",
              "    </tr>\n",
              "  </thead>\n",
              "  <tbody>\n",
              "    <tr>\n",
              "      <th>0</th>\n",
              "      <td>NaN</td>\n",
              "      <td>Datetime</td>\n",
              "      <td>Refrigeration Unit - 1</td>\n",
              "      <td>NaN</td>\n",
              "      <td>Refrigeration Unit - 2</td>\n",
              "      <td>NaN</td>\n",
              "      <td>Refrigeration Unit - 3</td>\n",
              "      <td>NaN</td>\n",
              "      <td>Refrigeration Unit - 4</td>\n",
              "      <td>NaN</td>\n",
              "    </tr>\n",
              "    <tr>\n",
              "      <th>1</th>\n",
              "      <td>NaN</td>\n",
              "      <td>NaN</td>\n",
              "      <td>Power</td>\n",
              "      <td>Temperature</td>\n",
              "      <td>Power</td>\n",
              "      <td>Temperature</td>\n",
              "      <td>Power</td>\n",
              "      <td>Temperature</td>\n",
              "      <td>Power</td>\n",
              "      <td>Temperature</td>\n",
              "    </tr>\n",
              "    <tr>\n",
              "      <th>2</th>\n",
              "      <td>NaN</td>\n",
              "      <td>2017-08-01 00:00:00</td>\n",
              "      <td>2.2585</td>\n",
              "      <td>4.81</td>\n",
              "      <td>3.231</td>\n",
              "      <td>0.495</td>\n",
              "      <td>0</td>\n",
              "      <td>8.93</td>\n",
              "      <td>0.308</td>\n",
              "      <td>3.34</td>\n",
              "    </tr>\n",
              "    <tr>\n",
              "      <th>3</th>\n",
              "      <td>NaN</td>\n",
              "      <td>2017-08-01 00:01:00</td>\n",
              "      <td>2.2035</td>\n",
              "      <td>3.9</td>\n",
              "      <td>3.188</td>\n",
              "      <td>0.245</td>\n",
              "      <td>0</td>\n",
              "      <td>8.9</td>\n",
              "      <td>1.338</td>\n",
              "      <td>3.435</td>\n",
              "    </tr>\n",
              "    <tr>\n",
              "      <th>4</th>\n",
              "      <td>NaN</td>\n",
              "      <td>2017-08-01 00:02:00</td>\n",
              "      <td>2.13</td>\n",
              "      <td>3.155</td>\n",
              "      <td>3.1845</td>\n",
              "      <td>0</td>\n",
              "      <td>0</td>\n",
              "      <td>8.87</td>\n",
              "      <td>2.3695</td>\n",
              "      <td>2.715</td>\n",
              "    </tr>\n",
              "    <tr>\n",
              "      <th>...</th>\n",
              "      <td>...</td>\n",
              "      <td>...</td>\n",
              "      <td>...</td>\n",
              "      <td>...</td>\n",
              "      <td>...</td>\n",
              "      <td>...</td>\n",
              "      <td>...</td>\n",
              "      <td>...</td>\n",
              "      <td>...</td>\n",
              "      <td>...</td>\n",
              "    </tr>\n",
              "    <tr>\n",
              "      <th>14397</th>\n",
              "      <td>NaN</td>\n",
              "      <td>2017-08-10 23:55:00</td>\n",
              "      <td>1.2655</td>\n",
              "      <td>4.84</td>\n",
              "      <td>0</td>\n",
              "      <td>16.465</td>\n",
              "      <td>2.27</td>\n",
              "      <td>3.68</td>\n",
              "      <td>0.3095</td>\n",
              "      <td>1.435</td>\n",
              "    </tr>\n",
              "    <tr>\n",
              "      <th>14398</th>\n",
              "      <td>NaN</td>\n",
              "      <td>2017-08-10 23:56:00</td>\n",
              "      <td>2.2785</td>\n",
              "      <td>4.685</td>\n",
              "      <td>0</td>\n",
              "      <td>16.5</td>\n",
              "      <td>2.4695</td>\n",
              "      <td>3.465</td>\n",
              "      <td>0.309</td>\n",
              "      <td>1.93</td>\n",
              "    </tr>\n",
              "    <tr>\n",
              "      <th>14399</th>\n",
              "      <td>NaN</td>\n",
              "      <td>2017-08-10 23:57:00</td>\n",
              "      <td>2.149</td>\n",
              "      <td>3.9</td>\n",
              "      <td>0</td>\n",
              "      <td>16.5</td>\n",
              "      <td>2.4275</td>\n",
              "      <td>2.935</td>\n",
              "      <td>0.309</td>\n",
              "      <td>2.62</td>\n",
              "    </tr>\n",
              "    <tr>\n",
              "      <th>14400</th>\n",
              "      <td>NaN</td>\n",
              "      <td>2017-08-10 23:58:00</td>\n",
              "      <td>2.147</td>\n",
              "      <td>3.275</td>\n",
              "      <td>0</td>\n",
              "      <td>16.53</td>\n",
              "      <td>2.413</td>\n",
              "      <td>2.375</td>\n",
              "      <td>0.309</td>\n",
              "      <td>3.155</td>\n",
              "    </tr>\n",
              "    <tr>\n",
              "      <th>14401</th>\n",
              "      <td>NaN</td>\n",
              "      <td>2017-08-10 23:59:00</td>\n",
              "      <td>1.22</td>\n",
              "      <td>2.905</td>\n",
              "      <td>0</td>\n",
              "      <td>16.56</td>\n",
              "      <td>2.40167</td>\n",
              "      <td>1.965</td>\n",
              "      <td>0.308</td>\n",
              "      <td>3.435</td>\n",
              "    </tr>\n",
              "  </tbody>\n",
              "</table>\n",
              "<p>14402 rows × 10 columns</p>\n",
              "</div>"
            ],
            "text/plain": [
              "       Unnamed: 0           Unnamed: 1  ...              Unnamed: 8   Unnamed: 9\n",
              "0             NaN             Datetime  ...  Refrigeration Unit - 4          NaN\n",
              "1             NaN                  NaN  ...                   Power  Temperature\n",
              "2             NaN  2017-08-01 00:00:00  ...                   0.308         3.34\n",
              "3             NaN  2017-08-01 00:01:00  ...                   1.338        3.435\n",
              "4             NaN  2017-08-01 00:02:00  ...                  2.3695        2.715\n",
              "...           ...                  ...  ...                     ...          ...\n",
              "14397         NaN  2017-08-10 23:55:00  ...                  0.3095        1.435\n",
              "14398         NaN  2017-08-10 23:56:00  ...                   0.309         1.93\n",
              "14399         NaN  2017-08-10 23:57:00  ...                   0.309         2.62\n",
              "14400         NaN  2017-08-10 23:58:00  ...                   0.309        3.155\n",
              "14401         NaN  2017-08-10 23:59:00  ...                   0.308        3.435\n",
              "\n",
              "[14402 rows x 10 columns]"
            ]
          },
          "metadata": {
            "tags": []
          },
          "execution_count": 4
        }
      ]
    },
    {
      "cell_type": "code",
      "metadata": {
        "id": "8FQY0DWd3W03",
        "outputId": "8bd8c698-2b8e-4b76-cee8-43f32f4e65fd",
        "colab": {
          "base_uri": "https://localhost:8080/",
          "height": 419
        }
      },
      "source": [
        "ref1_df = dfs[['Unnamed: 1','Unnamed: 2','Unnamed: 3']].iloc[2:]\n",
        "ref1_df.columns = ['Datetime','Power','Temperature']\n",
        "ref1_df\n"
      ],
      "execution_count": null,
      "outputs": [
        {
          "output_type": "execute_result",
          "data": {
            "text/html": [
              "<div>\n",
              "<style scoped>\n",
              "    .dataframe tbody tr th:only-of-type {\n",
              "        vertical-align: middle;\n",
              "    }\n",
              "\n",
              "    .dataframe tbody tr th {\n",
              "        vertical-align: top;\n",
              "    }\n",
              "\n",
              "    .dataframe thead th {\n",
              "        text-align: right;\n",
              "    }\n",
              "</style>\n",
              "<table border=\"1\" class=\"dataframe\">\n",
              "  <thead>\n",
              "    <tr style=\"text-align: right;\">\n",
              "      <th></th>\n",
              "      <th>Datetime</th>\n",
              "      <th>Power</th>\n",
              "      <th>Temperature</th>\n",
              "    </tr>\n",
              "  </thead>\n",
              "  <tbody>\n",
              "    <tr>\n",
              "      <th>2</th>\n",
              "      <td>2017-08-01 00:00:00</td>\n",
              "      <td>2.2585</td>\n",
              "      <td>4.81</td>\n",
              "    </tr>\n",
              "    <tr>\n",
              "      <th>3</th>\n",
              "      <td>2017-08-01 00:01:00</td>\n",
              "      <td>2.2035</td>\n",
              "      <td>3.9</td>\n",
              "    </tr>\n",
              "    <tr>\n",
              "      <th>4</th>\n",
              "      <td>2017-08-01 00:02:00</td>\n",
              "      <td>2.13</td>\n",
              "      <td>3.155</td>\n",
              "    </tr>\n",
              "    <tr>\n",
              "      <th>5</th>\n",
              "      <td>2017-08-01 00:03:00</td>\n",
              "      <td>2.1425</td>\n",
              "      <td>2.715</td>\n",
              "    </tr>\n",
              "    <tr>\n",
              "      <th>6</th>\n",
              "      <td>2017-08-01 00:04:00</td>\n",
              "      <td>1.225</td>\n",
              "      <td>2.31</td>\n",
              "    </tr>\n",
              "    <tr>\n",
              "      <th>...</th>\n",
              "      <td>...</td>\n",
              "      <td>...</td>\n",
              "      <td>...</td>\n",
              "    </tr>\n",
              "    <tr>\n",
              "      <th>14397</th>\n",
              "      <td>2017-08-10 23:55:00</td>\n",
              "      <td>1.2655</td>\n",
              "      <td>4.84</td>\n",
              "    </tr>\n",
              "    <tr>\n",
              "      <th>14398</th>\n",
              "      <td>2017-08-10 23:56:00</td>\n",
              "      <td>2.2785</td>\n",
              "      <td>4.685</td>\n",
              "    </tr>\n",
              "    <tr>\n",
              "      <th>14399</th>\n",
              "      <td>2017-08-10 23:57:00</td>\n",
              "      <td>2.149</td>\n",
              "      <td>3.9</td>\n",
              "    </tr>\n",
              "    <tr>\n",
              "      <th>14400</th>\n",
              "      <td>2017-08-10 23:58:00</td>\n",
              "      <td>2.147</td>\n",
              "      <td>3.275</td>\n",
              "    </tr>\n",
              "    <tr>\n",
              "      <th>14401</th>\n",
              "      <td>2017-08-10 23:59:00</td>\n",
              "      <td>1.22</td>\n",
              "      <td>2.905</td>\n",
              "    </tr>\n",
              "  </tbody>\n",
              "</table>\n",
              "<p>14400 rows × 3 columns</p>\n",
              "</div>"
            ],
            "text/plain": [
              "                  Datetime   Power Temperature\n",
              "2      2017-08-01 00:00:00  2.2585        4.81\n",
              "3      2017-08-01 00:01:00  2.2035         3.9\n",
              "4      2017-08-01 00:02:00    2.13       3.155\n",
              "5      2017-08-01 00:03:00  2.1425       2.715\n",
              "6      2017-08-01 00:04:00   1.225        2.31\n",
              "...                    ...     ...         ...\n",
              "14397  2017-08-10 23:55:00  1.2655        4.84\n",
              "14398  2017-08-10 23:56:00  2.2785       4.685\n",
              "14399  2017-08-10 23:57:00   2.149         3.9\n",
              "14400  2017-08-10 23:58:00   2.147       3.275\n",
              "14401  2017-08-10 23:59:00    1.22       2.905\n",
              "\n",
              "[14400 rows x 3 columns]"
            ]
          },
          "metadata": {
            "tags": []
          },
          "execution_count": 5
        }
      ]
    },
    {
      "cell_type": "code",
      "metadata": {
        "id": "jvuQVacY314i",
        "outputId": "77833f25-92fa-4b76-ec5d-af7873ac677b",
        "colab": {
          "base_uri": "https://localhost:8080/",
          "height": 419
        }
      },
      "source": [
        "ref2_df = dfs[['Unnamed: 1','Unnamed: 4','Unnamed: 5']].iloc[2:]\n",
        "ref2_df.columns = ['Datetime','Power','Temperature']\n",
        "ref2_df"
      ],
      "execution_count": null,
      "outputs": [
        {
          "output_type": "execute_result",
          "data": {
            "text/html": [
              "<div>\n",
              "<style scoped>\n",
              "    .dataframe tbody tr th:only-of-type {\n",
              "        vertical-align: middle;\n",
              "    }\n",
              "\n",
              "    .dataframe tbody tr th {\n",
              "        vertical-align: top;\n",
              "    }\n",
              "\n",
              "    .dataframe thead th {\n",
              "        text-align: right;\n",
              "    }\n",
              "</style>\n",
              "<table border=\"1\" class=\"dataframe\">\n",
              "  <thead>\n",
              "    <tr style=\"text-align: right;\">\n",
              "      <th></th>\n",
              "      <th>Datetime</th>\n",
              "      <th>Power</th>\n",
              "      <th>Temperature</th>\n",
              "    </tr>\n",
              "  </thead>\n",
              "  <tbody>\n",
              "    <tr>\n",
              "      <th>2</th>\n",
              "      <td>2017-08-01 00:00:00</td>\n",
              "      <td>3.231</td>\n",
              "      <td>0.495</td>\n",
              "    </tr>\n",
              "    <tr>\n",
              "      <th>3</th>\n",
              "      <td>2017-08-01 00:01:00</td>\n",
              "      <td>3.188</td>\n",
              "      <td>0.245</td>\n",
              "    </tr>\n",
              "    <tr>\n",
              "      <th>4</th>\n",
              "      <td>2017-08-01 00:02:00</td>\n",
              "      <td>3.1845</td>\n",
              "      <td>0</td>\n",
              "    </tr>\n",
              "    <tr>\n",
              "      <th>5</th>\n",
              "      <td>2017-08-01 00:03:00</td>\n",
              "      <td>3.1695</td>\n",
              "      <td>-0.215</td>\n",
              "    </tr>\n",
              "    <tr>\n",
              "      <th>6</th>\n",
              "      <td>2017-08-01 00:04:00</td>\n",
              "      <td>3.1735</td>\n",
              "      <td>-0.495</td>\n",
              "    </tr>\n",
              "    <tr>\n",
              "      <th>...</th>\n",
              "      <td>...</td>\n",
              "      <td>...</td>\n",
              "      <td>...</td>\n",
              "    </tr>\n",
              "    <tr>\n",
              "      <th>14397</th>\n",
              "      <td>2017-08-10 23:55:00</td>\n",
              "      <td>0</td>\n",
              "      <td>16.465</td>\n",
              "    </tr>\n",
              "    <tr>\n",
              "      <th>14398</th>\n",
              "      <td>2017-08-10 23:56:00</td>\n",
              "      <td>0</td>\n",
              "      <td>16.5</td>\n",
              "    </tr>\n",
              "    <tr>\n",
              "      <th>14399</th>\n",
              "      <td>2017-08-10 23:57:00</td>\n",
              "      <td>0</td>\n",
              "      <td>16.5</td>\n",
              "    </tr>\n",
              "    <tr>\n",
              "      <th>14400</th>\n",
              "      <td>2017-08-10 23:58:00</td>\n",
              "      <td>0</td>\n",
              "      <td>16.53</td>\n",
              "    </tr>\n",
              "    <tr>\n",
              "      <th>14401</th>\n",
              "      <td>2017-08-10 23:59:00</td>\n",
              "      <td>0</td>\n",
              "      <td>16.56</td>\n",
              "    </tr>\n",
              "  </tbody>\n",
              "</table>\n",
              "<p>14400 rows × 3 columns</p>\n",
              "</div>"
            ],
            "text/plain": [
              "                  Datetime   Power Temperature\n",
              "2      2017-08-01 00:00:00   3.231       0.495\n",
              "3      2017-08-01 00:01:00   3.188       0.245\n",
              "4      2017-08-01 00:02:00  3.1845           0\n",
              "5      2017-08-01 00:03:00  3.1695      -0.215\n",
              "6      2017-08-01 00:04:00  3.1735      -0.495\n",
              "...                    ...     ...         ...\n",
              "14397  2017-08-10 23:55:00       0      16.465\n",
              "14398  2017-08-10 23:56:00       0        16.5\n",
              "14399  2017-08-10 23:57:00       0        16.5\n",
              "14400  2017-08-10 23:58:00       0       16.53\n",
              "14401  2017-08-10 23:59:00       0       16.56\n",
              "\n",
              "[14400 rows x 3 columns]"
            ]
          },
          "metadata": {
            "tags": []
          },
          "execution_count": 6
        }
      ]
    },
    {
      "cell_type": "code",
      "metadata": {
        "id": "l6h7niH5399T",
        "outputId": "aaf8c56b-4285-4b45-ffdc-5bb60d8cff08",
        "colab": {
          "base_uri": "https://localhost:8080/",
          "height": 419
        }
      },
      "source": [
        "ref3_df = dfs[['Unnamed: 1','Unnamed: 6','Unnamed: 7']].iloc[2:]\n",
        "ref3_df.columns = ['Datetime','Power','Temperature']\n",
        "ref3_df"
      ],
      "execution_count": null,
      "outputs": [
        {
          "output_type": "execute_result",
          "data": {
            "text/html": [
              "<div>\n",
              "<style scoped>\n",
              "    .dataframe tbody tr th:only-of-type {\n",
              "        vertical-align: middle;\n",
              "    }\n",
              "\n",
              "    .dataframe tbody tr th {\n",
              "        vertical-align: top;\n",
              "    }\n",
              "\n",
              "    .dataframe thead th {\n",
              "        text-align: right;\n",
              "    }\n",
              "</style>\n",
              "<table border=\"1\" class=\"dataframe\">\n",
              "  <thead>\n",
              "    <tr style=\"text-align: right;\">\n",
              "      <th></th>\n",
              "      <th>Datetime</th>\n",
              "      <th>Power</th>\n",
              "      <th>Temperature</th>\n",
              "    </tr>\n",
              "  </thead>\n",
              "  <tbody>\n",
              "    <tr>\n",
              "      <th>2</th>\n",
              "      <td>2017-08-01 00:00:00</td>\n",
              "      <td>0</td>\n",
              "      <td>8.93</td>\n",
              "    </tr>\n",
              "    <tr>\n",
              "      <th>3</th>\n",
              "      <td>2017-08-01 00:01:00</td>\n",
              "      <td>0</td>\n",
              "      <td>8.9</td>\n",
              "    </tr>\n",
              "    <tr>\n",
              "      <th>4</th>\n",
              "      <td>2017-08-01 00:02:00</td>\n",
              "      <td>0</td>\n",
              "      <td>8.87</td>\n",
              "    </tr>\n",
              "    <tr>\n",
              "      <th>5</th>\n",
              "      <td>2017-08-01 00:03:00</td>\n",
              "      <td>0</td>\n",
              "      <td>8.81</td>\n",
              "    </tr>\n",
              "    <tr>\n",
              "      <th>6</th>\n",
              "      <td>2017-08-01 00:04:00</td>\n",
              "      <td>0</td>\n",
              "      <td>8.81</td>\n",
              "    </tr>\n",
              "    <tr>\n",
              "      <th>...</th>\n",
              "      <td>...</td>\n",
              "      <td>...</td>\n",
              "      <td>...</td>\n",
              "    </tr>\n",
              "    <tr>\n",
              "      <th>14397</th>\n",
              "      <td>2017-08-10 23:55:00</td>\n",
              "      <td>2.27</td>\n",
              "      <td>3.68</td>\n",
              "    </tr>\n",
              "    <tr>\n",
              "      <th>14398</th>\n",
              "      <td>2017-08-10 23:56:00</td>\n",
              "      <td>2.4695</td>\n",
              "      <td>3.465</td>\n",
              "    </tr>\n",
              "    <tr>\n",
              "      <th>14399</th>\n",
              "      <td>2017-08-10 23:57:00</td>\n",
              "      <td>2.4275</td>\n",
              "      <td>2.935</td>\n",
              "    </tr>\n",
              "    <tr>\n",
              "      <th>14400</th>\n",
              "      <td>2017-08-10 23:58:00</td>\n",
              "      <td>2.413</td>\n",
              "      <td>2.375</td>\n",
              "    </tr>\n",
              "    <tr>\n",
              "      <th>14401</th>\n",
              "      <td>2017-08-10 23:59:00</td>\n",
              "      <td>2.40167</td>\n",
              "      <td>1.965</td>\n",
              "    </tr>\n",
              "  </tbody>\n",
              "</table>\n",
              "<p>14400 rows × 3 columns</p>\n",
              "</div>"
            ],
            "text/plain": [
              "                  Datetime    Power Temperature\n",
              "2      2017-08-01 00:00:00        0        8.93\n",
              "3      2017-08-01 00:01:00        0         8.9\n",
              "4      2017-08-01 00:02:00        0        8.87\n",
              "5      2017-08-01 00:03:00        0        8.81\n",
              "6      2017-08-01 00:04:00        0        8.81\n",
              "...                    ...      ...         ...\n",
              "14397  2017-08-10 23:55:00     2.27        3.68\n",
              "14398  2017-08-10 23:56:00   2.4695       3.465\n",
              "14399  2017-08-10 23:57:00   2.4275       2.935\n",
              "14400  2017-08-10 23:58:00    2.413       2.375\n",
              "14401  2017-08-10 23:59:00  2.40167       1.965\n",
              "\n",
              "[14400 rows x 3 columns]"
            ]
          },
          "metadata": {
            "tags": []
          },
          "execution_count": 7
        }
      ]
    },
    {
      "cell_type": "code",
      "metadata": {
        "id": "hwY8EumV5yaY",
        "outputId": "6235aaae-f54f-4fd8-8f4b-9c95ed076e7d",
        "colab": {
          "base_uri": "https://localhost:8080/",
          "height": 419
        }
      },
      "source": [
        "ref4_df = dfs[['Unnamed: 1','Unnamed: 8','Unnamed: 9']].iloc[2:]\n",
        "ref4_df.columns = ['Datetime','Power','Temperature']\n",
        "ref4_df"
      ],
      "execution_count": null,
      "outputs": [
        {
          "output_type": "execute_result",
          "data": {
            "text/html": [
              "<div>\n",
              "<style scoped>\n",
              "    .dataframe tbody tr th:only-of-type {\n",
              "        vertical-align: middle;\n",
              "    }\n",
              "\n",
              "    .dataframe tbody tr th {\n",
              "        vertical-align: top;\n",
              "    }\n",
              "\n",
              "    .dataframe thead th {\n",
              "        text-align: right;\n",
              "    }\n",
              "</style>\n",
              "<table border=\"1\" class=\"dataframe\">\n",
              "  <thead>\n",
              "    <tr style=\"text-align: right;\">\n",
              "      <th></th>\n",
              "      <th>Datetime</th>\n",
              "      <th>Power</th>\n",
              "      <th>Temperature</th>\n",
              "    </tr>\n",
              "  </thead>\n",
              "  <tbody>\n",
              "    <tr>\n",
              "      <th>2</th>\n",
              "      <td>2017-08-01 00:00:00</td>\n",
              "      <td>0.308</td>\n",
              "      <td>3.34</td>\n",
              "    </tr>\n",
              "    <tr>\n",
              "      <th>3</th>\n",
              "      <td>2017-08-01 00:01:00</td>\n",
              "      <td>1.338</td>\n",
              "      <td>3.435</td>\n",
              "    </tr>\n",
              "    <tr>\n",
              "      <th>4</th>\n",
              "      <td>2017-08-01 00:02:00</td>\n",
              "      <td>2.3695</td>\n",
              "      <td>2.715</td>\n",
              "    </tr>\n",
              "    <tr>\n",
              "      <th>5</th>\n",
              "      <td>2017-08-01 00:03:00</td>\n",
              "      <td>2.2265</td>\n",
              "      <td>2.125</td>\n",
              "    </tr>\n",
              "    <tr>\n",
              "      <th>6</th>\n",
              "      <td>2017-08-01 00:04:00</td>\n",
              "      <td>2.231</td>\n",
              "      <td>1.745</td>\n",
              "    </tr>\n",
              "    <tr>\n",
              "      <th>...</th>\n",
              "      <td>...</td>\n",
              "      <td>...</td>\n",
              "      <td>...</td>\n",
              "    </tr>\n",
              "    <tr>\n",
              "      <th>14397</th>\n",
              "      <td>2017-08-10 23:55:00</td>\n",
              "      <td>0.3095</td>\n",
              "      <td>1.435</td>\n",
              "    </tr>\n",
              "    <tr>\n",
              "      <th>14398</th>\n",
              "      <td>2017-08-10 23:56:00</td>\n",
              "      <td>0.309</td>\n",
              "      <td>1.93</td>\n",
              "    </tr>\n",
              "    <tr>\n",
              "      <th>14399</th>\n",
              "      <td>2017-08-10 23:57:00</td>\n",
              "      <td>0.309</td>\n",
              "      <td>2.62</td>\n",
              "    </tr>\n",
              "    <tr>\n",
              "      <th>14400</th>\n",
              "      <td>2017-08-10 23:58:00</td>\n",
              "      <td>0.309</td>\n",
              "      <td>3.155</td>\n",
              "    </tr>\n",
              "    <tr>\n",
              "      <th>14401</th>\n",
              "      <td>2017-08-10 23:59:00</td>\n",
              "      <td>0.308</td>\n",
              "      <td>3.435</td>\n",
              "    </tr>\n",
              "  </tbody>\n",
              "</table>\n",
              "<p>14400 rows × 3 columns</p>\n",
              "</div>"
            ],
            "text/plain": [
              "                  Datetime   Power Temperature\n",
              "2      2017-08-01 00:00:00   0.308        3.34\n",
              "3      2017-08-01 00:01:00   1.338       3.435\n",
              "4      2017-08-01 00:02:00  2.3695       2.715\n",
              "5      2017-08-01 00:03:00  2.2265       2.125\n",
              "6      2017-08-01 00:04:00   2.231       1.745\n",
              "...                    ...     ...         ...\n",
              "14397  2017-08-10 23:55:00  0.3095       1.435\n",
              "14398  2017-08-10 23:56:00   0.309        1.93\n",
              "14399  2017-08-10 23:57:00   0.309        2.62\n",
              "14400  2017-08-10 23:58:00   0.309       3.155\n",
              "14401  2017-08-10 23:59:00   0.308       3.435\n",
              "\n",
              "[14400 rows x 3 columns]"
            ]
          },
          "metadata": {
            "tags": []
          },
          "execution_count": 8
        }
      ]
    },
    {
      "cell_type": "markdown",
      "metadata": {
        "id": "tChhk6Wos0uE"
      },
      "source": [
        "# **Plotting Refrigerator 1**"
      ]
    },
    {
      "cell_type": "code",
      "metadata": {
        "id": "W2Ngupgh8a5O",
        "outputId": "ef0aeba3-60fe-4b9b-f361-b8dea0bede6b",
        "colab": {
          "base_uri": "https://localhost:8080/",
          "height": 282
        }
      },
      "source": [
        "plt.plot(ref1_df['Power'].values)"
      ],
      "execution_count": null,
      "outputs": [
        {
          "output_type": "execute_result",
          "data": {
            "text/plain": [
              "[<matplotlib.lines.Line2D at 0x7f3f83a32b00>]"
            ]
          },
          "metadata": {
            "tags": []
          },
          "execution_count": 9
        },
        {
          "output_type": "display_data",
          "data": {
            "image/png": "[encoded data removed]",
            "text/plain": [
              "<Figure size 432x288 with 1 Axes>"
            ]
          },
          "metadata": {
            "tags": [],
            "needs_background": "light"
          }
        }
      ]
    },
    {
      "cell_type": "code",
      "metadata": {
        "id": "jcfab_o9nUG2",
        "outputId": "2d55a3b0-009a-4623-f1d7-80ecf666b8fe",
        "colab": {
          "base_uri": "https://localhost:8080/",
          "height": 282
        }
      },
      "source": [
        "plt.plot(ref1_df['Temperature'].values)"
      ],
      "execution_count": null,
      "outputs": [
        {
          "output_type": "execute_result",
          "data": {
            "text/plain": [
              "[<matplotlib.lines.Line2D at 0x7f3f8451da58>]"
            ]
          },
          "metadata": {
            "tags": []
          },
          "execution_count": 10
        },
        {
          "output_type": "display_data",
          "data": {
            "image/png": "[encoded data removed]",
            "text/plain": [
              "<Figure size 432x288 with 1 Axes>"
            ]
          },
          "metadata": {
            "tags": [],
            "needs_background": "light"
          }
        }
      ]
    },
    {
      "cell_type": "code",
      "metadata": {
        "id": "p0KNgG6VnqLv"
      },
      "source": [
        "import matplotlib\n",
        "times = matplotlib.dates.date2num(ref1_df['Datetime'].values)"
      ],
      "execution_count": null,
      "outputs": []
    },
    {
      "cell_type": "code",
      "metadata": {
        "id": "vsRS1DwjsOWy",
        "outputId": "7d158fcc-93b2-444f-addb-f69fa63e17ec",
        "colab": {
          "base_uri": "https://localhost:8080/",
          "height": 271
        }
      },
      "source": [
        "plt.plot(ref1_df['Datetime'].values,ref1_df['Power'].values)\n",
        "plt.gcf().autofmt_xdate()\n",
        "#myFmt = matplotlib.dates.DateFormatter('%d')\n",
        "#plt.gca().xaxis.set_major_formatter(myFmt)\n",
        "plt.show()"
      ],
      "execution_count": null,
      "outputs": [
        {
          "output_type": "display_data",
          "data": {
            "image/png": "[encoded data removed]",
            "text/plain": [
              "<Figure size 432x288 with 1 Axes>"
            ]
          },
          "metadata": {
            "tags": [],
            "needs_background": "light"
          }
        }
      ]
    },
    {
      "cell_type": "code",
      "metadata": {
        "id": "q7GhI2g8sZTn",
        "outputId": "801f9943-eeab-4c8f-a7f0-9856df984fdf",
        "colab": {
          "base_uri": "https://localhost:8080/",
          "height": 271
        }
      },
      "source": [
        "plt.plot(ref1_df['Datetime'].values,ref1_df['Temperature'].values)\n",
        "plt.gcf().autofmt_xdate()\n",
        "#myFmt = matplotlib.dates.DateFormatter('%d')\n",
        "#plt.gca().xaxis.set_major_formatter(myFmt)\n",
        "plt.show()"
      ],
      "execution_count": null,
      "outputs": [
        {
          "output_type": "display_data",
          "data": {
            "image/png": "[encoded data removed]",
            "text/plain": [
              "<Figure size 432x288 with 1 Axes>"
            ]
          },
          "metadata": {
            "tags": [],
            "needs_background": "light"
          }
        }
      ]
    },
    {
      "cell_type": "markdown",
      "metadata": {
        "id": "C8vQjlnItASp"
      },
      "source": [
        "# **Plotting Refrigerator 2**"
      ]
    },
    {
      "cell_type": "code",
      "metadata": {
        "id": "jxuBXdtJslzG",
        "outputId": "4c4abcc4-b32a-421c-c6d4-270d27980987",
        "colab": {
          "base_uri": "https://localhost:8080/",
          "height": 282
        }
      },
      "source": [
        "plt.plot(ref2_df['Power'].values)"
      ],
      "execution_count": null,
      "outputs": [
        {
          "output_type": "execute_result",
          "data": {
            "text/plain": [
              "[<matplotlib.lines.Line2D at 0x7f3f83c971d0>]"
            ]
          },
          "metadata": {
            "tags": []
          },
          "execution_count": 14
        },
        {
          "output_type": "display_data",
          "data": {
            "image/png": "[encoded data removed]",
            "text/plain": [
              "<Figure size 432x288 with 1 Axes>"
            ]
          },
          "metadata": {
            "tags": [],
            "needs_background": "light"
          }
        }
      ]
    },
    {
      "cell_type": "code",
      "metadata": {
        "id": "5cFvX-vltJfs",
        "outputId": "775f86f4-a6c1-4b8d-d4db-b1537ac7ab8c",
        "colab": {
          "base_uri": "https://localhost:8080/",
          "height": 282
        }
      },
      "source": [
        "plt.plot(ref2_df['Temperature'].values)"
      ],
      "execution_count": null,
      "outputs": [
        {
          "output_type": "execute_result",
          "data": {
            "text/plain": [
              "[<matplotlib.lines.Line2D at 0x7f3f83bcd4e0>]"
            ]
          },
          "metadata": {
            "tags": []
          },
          "execution_count": 15
        },
        {
          "output_type": "display_data",
          "data": {
            "image/png": "[encoded data removed]",
            "text/plain": [
              "<Figure size 432x288 with 1 Axes>"
            ]
          },
          "metadata": {
            "tags": [],
            "needs_background": "light"
          }
        }
      ]
    },
    {
      "cell_type": "code",
      "metadata": {
        "id": "VBC4vOtatPHS"
      },
      "source": [
        "times = matplotlib.dates.date2num(ref2_df['Datetime'].values)"
      ],
      "execution_count": null,
      "outputs": []
    },
    {
      "cell_type": "code",
      "metadata": {
        "id": "YJsfnalotVaS",
        "outputId": "b9118108-628d-4641-df36-a17a311825bb",
        "colab": {
          "base_uri": "https://localhost:8080/",
          "height": 271
        }
      },
      "source": [
        "plt.plot(ref2_df['Datetime'].values,ref2_df['Power'].values)\n",
        "plt.gcf().autofmt_xdate()\n",
        "#myFmt = matplotlib.dates.DateFormatter('%d')\n",
        "#plt.gca().xaxis.set_major_formatter(myFmt)\n",
        "plt.show()"
      ],
      "execution_count": null,
      "outputs": [
        {
          "output_type": "display_data",
          "data": {
            "image/png": "[encoded data removed]",
            "text/plain": [
              "<Figure size 432x288 with 1 Axes>"
            ]
          },
          "metadata": {
            "tags": [],
            "needs_background": "light"
          }
        }
      ]
    },
    {
      "cell_type": "code",
      "metadata": {
        "id": "VsRV3UD8tZTJ",
        "outputId": "ed9f55f5-ce34-48bd-e598-4a9ca683b81c",
        "colab": {
          "base_uri": "https://localhost:8080/",
          "height": 271
        }
      },
      "source": [
        "plt.plot(ref2_df['Datetime'].values,ref2_df['Temperature'].values)\n",
        "plt.gcf().autofmt_xdate()\n",
        "#myFmt = matplotlib.dates.DateFormatter('%d')\n",
        "#plt.gca().xaxis.set_major_formatter(myFmt)\n",
        "plt.show()"
      ],
      "execution_count": null,
      "outputs": [
        {
          "output_type": "display_data",
          "data": {
            "image/png": "[encoded data removed]",
            "text/plain": [
              "<Figure size 432x288 with 1 Axes>"
            ]
          },
          "metadata": {
            "tags": [],
            "needs_background": "light"
          }
        }
      ]
    },
    {
      "cell_type": "markdown",
      "metadata": {
        "id": "X5x8x173tqyz"
      },
      "source": [
        "# **Plotting Refrigerator 3**"
      ]
    },
    {
      "cell_type": "code",
      "metadata": {
        "id": "qT5aFB-BtnI0",
        "outputId": "40f49b4b-e8e2-480e-e7a5-32dec2f528e1",
        "colab": {
          "base_uri": "https://localhost:8080/",
          "height": 282
        }
      },
      "source": [
        "plt.plot(ref3_df['Power'].values)"
      ],
      "execution_count": null,
      "outputs": [
        {
          "output_type": "execute_result",
          "data": {
            "text/plain": [
              "[<matplotlib.lines.Line2D at 0x7f3f8399d358>]"
            ]
          },
          "metadata": {
            "tags": []
          },
          "execution_count": 19
        },
        {
          "output_type": "display_data",
          "data": {
            "image/png": "[encoded data removed]",
            "text/plain": [
              "<Figure size 432x288 with 1 Axes>"
            ]
          },
          "metadata": {
            "tags": [],
            "needs_background": "light"
          }
        }
      ]
    },
    {
      "cell_type": "code",
      "metadata": {
        "id": "hVOFUGPTuEET",
        "outputId": "4104da10-9a05-48dd-fb5e-95f02978aee6",
        "colab": {
          "base_uri": "https://localhost:8080/",
          "height": 282
        }
      },
      "source": [
        "plt.plot(ref3_df['Temperature'].values)"
      ],
      "execution_count": null,
      "outputs": [
        {
          "output_type": "execute_result",
          "data": {
            "text/plain": [
              "[<matplotlib.lines.Line2D at 0x7f3f839ba080>]"
            ]
          },
          "metadata": {
            "tags": []
          },
          "execution_count": 20
        },
        {
          "output_type": "display_data",
          "data": {
            "image/png": "[encoded data removed]",
            "text/plain": [
              "<Figure size 432x288 with 1 Axes>"
            ]
          },
          "metadata": {
            "tags": [],
            "needs_background": "light"
          }
        }
      ]
    },
    {
      "cell_type": "code",
      "metadata": {
        "id": "tl_5EFAiuIFl"
      },
      "source": [
        "times = matplotlib.dates.date2num(ref3_df['Datetime'].values)"
      ],
      "execution_count": null,
      "outputs": []
    },
    {
      "cell_type": "code",
      "metadata": {
        "id": "vMHntgSVuOU3",
        "outputId": "aabeb4a5-c124-4a38-d905-7efb9a1e9325",
        "colab": {
          "base_uri": "https://localhost:8080/",
          "height": 271
        }
      },
      "source": [
        "plt.plot(ref3_df['Datetime'].values,ref3_df['Power'].values)\n",
        "plt.gcf().autofmt_xdate()\n",
        "#myFmt = matplotlib.dates.DateFormatter('%d')\n",
        "#plt.gca().xaxis.set_major_formatter(myFmt)\n",
        "plt.show()"
      ],
      "execution_count": null,
      "outputs": [
        {
          "output_type": "display_data",
          "data": {
            "image/png": "[encoded data removed]",
            "text/plain": [
              "<Figure size 432x288 with 1 Axes>"
            ]
          },
          "metadata": {
            "tags": [],
            "needs_background": "light"
          }
        }
      ]
    },
    {
      "cell_type": "code",
      "metadata": {
        "id": "2qq8y5nbuRbs",
        "outputId": "146ef47b-472f-4804-c308-8c3621f45172",
        "colab": {
          "base_uri": "https://localhost:8080/",
          "height": 271
        }
      },
      "source": [
        "plt.plot(ref3_df['Datetime'].values,ref3_df['Temperature'].values)\n",
        "plt.gcf().autofmt_xdate()\n",
        "#myFmt = matplotlib.dates.DateFormatter('%d')\n",
        "#plt.gca().xaxis.set_major_formatter(myFmt)\n",
        "plt.show()"
      ],
      "execution_count": null,
      "outputs": [
        {
          "output_type": "display_data",
          "data": {
            "image/png": "[encoded data removed]",
            "text/plain": [
              "<Figure size 432x288 with 1 Axes>"
            ]
          },
          "metadata": {
            "tags": [],
            "needs_background": "light"
          }
        }
      ]
    },
    {
      "cell_type": "markdown",
      "metadata": {
        "id": "HskIuZ_Cud-M"
      },
      "source": [
        "# **Plotting Refrigerator 4**"
      ]
    },
    {
      "cell_type": "code",
      "metadata": {
        "id": "jdeUhUEOucw7",
        "outputId": "a9dece24-9fd6-4679-8288-0d80f0af489f",
        "colab": {
          "base_uri": "https://localhost:8080/",
          "height": 282
        }
      },
      "source": [
        "plt.plot(ref4_df['Power'].values)"
      ],
      "execution_count": null,
      "outputs": [
        {
          "output_type": "execute_result",
          "data": {
            "text/plain": [
              "[<matplotlib.lines.Line2D at 0x7f3f83b57748>]"
            ]
          },
          "metadata": {
            "tags": []
          },
          "execution_count": 24
        },
        {
          "output_type": "display_data",
          "data": {
            "image/png": "[encoded data removed]",
            "text/plain": [
              "<Figure size 432x288 with 1 Axes>"
            ]
          },
          "metadata": {
            "tags": [],
            "needs_background": "light"
          }
        }
      ]
    },
    {
      "cell_type": "code",
      "metadata": {
        "id": "g_OeHIOxuvag",
        "outputId": "1e695ceb-b2b9-4dc8-ad90-e189b00080f2",
        "colab": {
          "base_uri": "https://localhost:8080/",
          "height": 282
        }
      },
      "source": [
        "plt.plot(ref4_df['Temperature'].values)"
      ],
      "execution_count": null,
      "outputs": [
        {
          "output_type": "execute_result",
          "data": {
            "text/plain": [
              "[<matplotlib.lines.Line2D at 0x7f3f8423a6d8>]"
            ]
          },
          "metadata": {
            "tags": []
          },
          "execution_count": 25
        },
        {
          "output_type": "display_data",
          "data": {
            "image/png": "[encoded data removed]",
            "text/plain": [
              "<Figure size 432x288 with 1 Axes>"
            ]
          },
          "metadata": {
            "tags": [],
            "needs_background": "light"
          }
        }
      ]
    },
    {
      "cell_type": "code",
      "metadata": {
        "id": "qjJSb3C-uz4J"
      },
      "source": [
        "times = matplotlib.dates.date2num(ref4_df['Datetime'].values)"
      ],
      "execution_count": null,
      "outputs": []
    },
    {
      "cell_type": "code",
      "metadata": {
        "id": "JRa2lfqPu5SJ",
        "outputId": "9b23809e-48fc-480e-8f5f-7fe24a7221df",
        "colab": {
          "base_uri": "https://localhost:8080/",
          "height": 271
        }
      },
      "source": [
        "plt.plot(ref4_df['Datetime'].values,ref4_df['Power'].values)\n",
        "plt.gcf().autofmt_xdate()\n",
        "#myFmt = matplotlib.dates.DateFormatter('%d')\n",
        "#plt.gca().xaxis.set_major_formatter(myFmt)\n",
        "plt.show()"
      ],
      "execution_count": null,
      "outputs": [
        {
          "output_type": "display_data",
          "data": {
            "image/png": "[encoded data removed]",
            "text/plain": [
              "<Figure size 432x288 with 1 Axes>"
            ]
          },
          "metadata": {
            "tags": [],
            "needs_background": "light"
          }
        }
      ]
    },
    {
      "cell_type": "code",
      "metadata": {
        "id": "o88SXcwQu954",
        "outputId": "cdb12f79-ff7f-46d7-b122-9e60b9ce4c9f",
        "colab": {
          "base_uri": "https://localhost:8080/",
          "height": 271
        }
      },
      "source": [
        "plt.plot(ref4_df['Datetime'].values,ref4_df['Temperature'].values)\n",
        "plt.gcf().autofmt_xdate()\n",
        "#myFmt = matplotlib.dates.DateFormatter('%d')\n",
        "#plt.gca().xaxis.set_major_formatter(myFmt)\n",
        "plt.show()"
      ],
      "execution_count": null,
      "outputs": [
        {
          "output_type": "display_data",
          "data": {
            "image/png": "[encoded data removed]",
            "text/plain": [
              "<Figure size 432x288 with 1 Axes>"
            ]
          },
          "metadata": {
            "tags": [],
            "needs_background": "light"
          }
        }
      ]
    },
    {
      "cell_type": "markdown",
      "metadata": {
        "id": "3GVX6N2LvF4a"
      },
      "source": [
        "# **Calculating Duty Cycle for Refrigerator 1**"
      ]
    },
    {
      "cell_type": "code",
      "metadata": {
        "id": "wsqhhujovC3o",
        "outputId": "496dfa6b-ad75-49da-d39b-8dcbd618ffdf",
        "colab": {
          "base_uri": "https://localhost:8080/",
          "height": 136
        }
      },
      "source": [
        "print(\" \\nTotal NaN at each column in a DataFrame : \\n\\n\", \n",
        "      ref1_df.isnull().sum())"
      ],
      "execution_count": null,
      "outputs": [
        {
          "output_type": "stream",
          "text": [
            " \n",
            "Total NaN at each column in a DataFrame : \n",
            "\n",
            " Datetime        0\n",
            "Power          77\n",
            "Temperature     0\n",
            "dtype: int64\n"
          ],
          "name": "stdout"
        }
      ]
    },
    {
      "cell_type": "code",
      "metadata": {
        "id": "CBZrtDbaxSOI",
        "outputId": "8c3e09ff-3d2a-48c3-f861-3fadfec91a0b",
        "colab": {
          "base_uri": "https://localhost:8080/",
          "height": 85
        }
      },
      "source": [
        "t1=len(ref1_df)\n",
        "d1=77\n",
        "D_C1= (t1-d1)/t1\n",
        "print(\" \\nDuty Cycle of Refrigerator 1 : \\n\\n\",D_C1)"
      ],
      "execution_count": null,
      "outputs": [
        {
          "output_type": "stream",
          "text": [
            " \n",
            "Duty Cycle of Refrigerator 1 : \n",
            "\n",
            " 0.9946527777777778\n"
          ],
          "name": "stdout"
        }
      ]
    },
    {
      "cell_type": "markdown",
      "metadata": {
        "id": "ie7ju6Be1ajw"
      },
      "source": [
        "# **Calculating Duty Cycle for Refrigerator 2**"
      ]
    },
    {
      "cell_type": "code",
      "metadata": {
        "id": "wkaY5aua0ZBD",
        "outputId": "4768c085-4d77-4c94-8231-1680017eff69",
        "colab": {
          "base_uri": "https://localhost:8080/",
          "height": 136
        }
      },
      "source": [
        "print(\" \\nTotal NaN at each column in a DataFrame : \\n\\n\", \n",
        "      ref2_df.isnull().sum())"
      ],
      "execution_count": null,
      "outputs": [
        {
          "output_type": "stream",
          "text": [
            " \n",
            "Total NaN at each column in a DataFrame : \n",
            "\n",
            " Datetime         0\n",
            "Power          494\n",
            "Temperature    387\n",
            "dtype: int64\n"
          ],
          "name": "stdout"
        }
      ]
    },
    {
      "cell_type": "code",
      "metadata": {
        "id": "wzOcyogH1hKm",
        "outputId": "8c4a16d9-86df-4bba-9af1-1e5b154fdabe",
        "colab": {
          "base_uri": "https://localhost:8080/",
          "height": 85
        }
      },
      "source": [
        "t2=len(ref2_df)\n",
        "d2=494\n",
        "D_C2= (t2-d2)/t2\n",
        "print(\" \\nDuty Cycle of Refrigerator 2 : \\n\\n\",D_C2)"
      ],
      "execution_count": null,
      "outputs": [
        {
          "output_type": "stream",
          "text": [
            " \n",
            "Duty Cycle of Refrigerator 2 : \n",
            "\n",
            " 0.9656944444444444\n"
          ],
          "name": "stdout"
        }
      ]
    },
    {
      "cell_type": "markdown",
      "metadata": {
        "id": "o4LlI_KP2a3m"
      },
      "source": [
        "# **Calculating Duty Cycle for Refrigerator 3**"
      ]
    },
    {
      "cell_type": "code",
      "metadata": {
        "id": "QM8dTk3M1wPE",
        "outputId": "811a72ff-2b24-4b8a-f1f6-3f2b18ed3377",
        "colab": {
          "base_uri": "https://localhost:8080/",
          "height": 136
        }
      },
      "source": [
        "print(\" \\nTotal NaN at each column in a DataFrame : \\n\\n\", \n",
        "      ref3_df.isnull().sum())"
      ],
      "execution_count": null,
      "outputs": [
        {
          "output_type": "stream",
          "text": [
            " \n",
            "Total NaN at each column in a DataFrame : \n",
            "\n",
            " Datetime         0\n",
            "Power          233\n",
            "Temperature      0\n",
            "dtype: int64\n"
          ],
          "name": "stdout"
        }
      ]
    },
    {
      "cell_type": "code",
      "metadata": {
        "id": "hOadXeIZ2hmB",
        "outputId": "e9bbe887-d39b-47dc-edb0-31b99cb9fc68",
        "colab": {
          "base_uri": "https://localhost:8080/",
          "height": 85
        }
      },
      "source": [
        "t3=len(ref3_df)\n",
        "d3=233\n",
        "D_C3= (t3-d3)/t3\n",
        "print(\" \\nDuty Cycle of Refrigerator 3 : \\n\\n\",D_C3)"
      ],
      "execution_count": null,
      "outputs": [
        {
          "output_type": "stream",
          "text": [
            " \n",
            "Duty Cycle of Refrigerator 3 : \n",
            "\n",
            " 0.9838194444444445\n"
          ],
          "name": "stdout"
        }
      ]
    },
    {
      "cell_type": "markdown",
      "metadata": {
        "id": "Y6rocA_W28JT"
      },
      "source": [
        "# **Calculating Duty Cycle for Refrigerator 4**"
      ]
    },
    {
      "cell_type": "code",
      "metadata": {
        "id": "5Az3MPFc233Y",
        "outputId": "7cff4c01-a186-4e21-87fe-a3ab772b19f8",
        "colab": {
          "base_uri": "https://localhost:8080/",
          "height": 136
        }
      },
      "source": [
        "print(\" \\nTotal NaN at each column in a DataFrame : \\n\\n\", \n",
        "      ref4_df.isnull().sum())"
      ],
      "execution_count": null,
      "outputs": [
        {
          "output_type": "stream",
          "text": [
            " \n",
            "Total NaN at each column in a DataFrame : \n",
            "\n",
            " Datetime          0\n",
            "Power          1242\n",
            "Temperature      70\n",
            "dtype: int64\n"
          ],
          "name": "stdout"
        }
      ]
    },
    {
      "cell_type": "code",
      "metadata": {
        "id": "FPtz96423F99",
        "outputId": "232dd024-869a-45df-cade-4d3a9e002063",
        "colab": {
          "base_uri": "https://localhost:8080/",
          "height": 85
        }
      },
      "source": [
        "t4=len(ref4_df)\n",
        "d4=1242\n",
        "D_C4= (t4-d4)/t4\n",
        "print(\" \\nDuty Cycle of Refrigerator 4 : \\n\\n\",D_C4)"
      ],
      "execution_count": null,
      "outputs": [
        {
          "output_type": "stream",
          "text": [
            " \n",
            "Duty Cycle of Refrigerator 4 : \n",
            "\n",
            " 0.91375\n"
          ],
          "name": "stdout"
        }
      ]
    },
    {
      "cell_type": "markdown",
      "metadata": {
        "id": "nXWkD3NI4_qw"
      },
      "source": [
        "# **Calculating Temperature Range for Refrigerator 1**"
      ]
    },
    {
      "cell_type": "code",
      "metadata": {
        "id": "UTphFYJZ3UpN",
        "outputId": "b7fbf171-bde5-4b63-f1a8-cc1de7a29fb7",
        "colab": {
          "base_uri": "https://localhost:8080/",
          "height": 85
        }
      },
      "source": [
        "print(\" \\nMinimum temperature of Refrigerator 1 : \\n\\n\",ref1_df['Temperature'].min())"
      ],
      "execution_count": null,
      "outputs": [
        {
          "output_type": "stream",
          "text": [
            " \n",
            "Minimum temperature of Refrigerator 1 : \n",
            "\n",
            " 1.65\n"
          ],
          "name": "stdout"
        }
      ]
    },
    {
      "cell_type": "code",
      "metadata": {
        "id": "ga7-6U7h5LST",
        "outputId": "f738c8bd-8c25-4f2b-fe1c-36a2eba64a80",
        "colab": {
          "base_uri": "https://localhost:8080/",
          "height": 85
        }
      },
      "source": [
        "print(\" \\nMaximum temperature of Refrigerator 1 : \\n\\n\",ref1_df['Temperature'].max())"
      ],
      "execution_count": null,
      "outputs": [
        {
          "output_type": "stream",
          "text": [
            " \n",
            "Maximum temperature of Refrigerator 1 : \n",
            "\n",
            " 102.375\n"
          ],
          "name": "stdout"
        }
      ]
    },
    {
      "cell_type": "markdown",
      "metadata": {
        "id": "OC0dL5iO5vHC"
      },
      "source": [
        "# **Calculating Temperature Range for Refrigerator 2**"
      ]
    },
    {
      "cell_type": "code",
      "metadata": {
        "id": "yFqvB_Sy5sjK",
        "outputId": "b0cdef2d-75a5-43b4-ce3b-102327374969",
        "colab": {
          "base_uri": "https://localhost:8080/",
          "height": 85
        }
      },
      "source": [
        "print(\" \\nMinimum temperature of Refrigerator 2 : \\n\\n\",ref2_df['Temperature'].min())"
      ],
      "execution_count": null,
      "outputs": [
        {
          "output_type": "stream",
          "text": [
            " \n",
            "Minimum temperature of Refrigerator 2 : \n",
            "\n",
            " -4.09\n"
          ],
          "name": "stdout"
        }
      ]
    },
    {
      "cell_type": "code",
      "metadata": {
        "id": "t3X52ojZ57jd",
        "outputId": "0fce8421-65e7-4e2f-cbec-a1dd2997d548",
        "colab": {
          "base_uri": "https://localhost:8080/",
          "height": 85
        }
      },
      "source": [
        "print(\" \\nMaximum temperature of Refrigerator 2 : \\n\\n\",ref2_df['Temperature'].max())"
      ],
      "execution_count": null,
      "outputs": [
        {
          "output_type": "stream",
          "text": [
            " \n",
            "Maximum temperature of Refrigerator 2 : \n",
            "\n",
            " 102.625\n"
          ],
          "name": "stdout"
        }
      ]
    },
    {
      "cell_type": "markdown",
      "metadata": {
        "id": "mMn6kRb86DbE"
      },
      "source": [
        "# **Calculating Temperature Range for Refrigerator 3**"
      ]
    },
    {
      "cell_type": "code",
      "metadata": {
        "id": "UvMjITuE6ANl",
        "outputId": "16f24987-a3ec-4d50-ea35-01f54ea67bd0",
        "colab": {
          "base_uri": "https://localhost:8080/",
          "height": 85
        }
      },
      "source": [
        "print(\" \\nMinimum temperature of Refrigerator 3 : \\n\\n\",ref3_df['Temperature'].min())"
      ],
      "execution_count": null,
      "outputs": [
        {
          "output_type": "stream",
          "text": [
            " \n",
            "Minimum temperature of Refrigerator 3 : \n",
            "\n",
            " 1.09\n"
          ],
          "name": "stdout"
        }
      ]
    },
    {
      "cell_type": "code",
      "metadata": {
        "id": "Oa5voIZa6Jlo",
        "outputId": "3738ddbd-925e-4d7b-ba69-6b3924092a10",
        "colab": {
          "base_uri": "https://localhost:8080/",
          "height": 85
        }
      },
      "source": [
        "print(\" \\nMaximum temperature of Refrigerator 3 : \\n\\n\",ref3_df['Temperature'].max())"
      ],
      "execution_count": null,
      "outputs": [
        {
          "output_type": "stream",
          "text": [
            " \n",
            "Maximum temperature of Refrigerator 3 : \n",
            "\n",
            " 101.905\n"
          ],
          "name": "stdout"
        }
      ]
    },
    {
      "cell_type": "markdown",
      "metadata": {
        "id": "FAby7W--6XH6"
      },
      "source": [
        "# **Calculating Temperature Range for Refrigerator 4**"
      ]
    },
    {
      "cell_type": "code",
      "metadata": {
        "id": "Lrw3uykc6Uej",
        "outputId": "2ffaba49-42fa-4c6d-8b82-e43487e5f279",
        "colab": {
          "base_uri": "https://localhost:8080/",
          "height": 85
        }
      },
      "source": [
        "print(\" \\nMinimum temperature of Refrigerator 4 : \\n\\n\",ref4_df['Temperature'].min())"
      ],
      "execution_count": null,
      "outputs": [
        {
          "output_type": "stream",
          "text": [
            " \n",
            "Minimum temperature of Refrigerator 4 : \n",
            "\n",
            " 0.185\n"
          ],
          "name": "stdout"
        }
      ]
    },
    {
      "cell_type": "code",
      "metadata": {
        "id": "l-Tj_3sW6e5k",
        "outputId": "be7577ed-18bc-4fe1-ae93-aff5937ecace",
        "colab": {
          "base_uri": "https://localhost:8080/",
          "height": 85
        }
      },
      "source": [
        "print(\" \\nMaximum temperature of Refrigerator 4 : \\n\\n\",ref4_df['Temperature'].max())"
      ],
      "execution_count": null,
      "outputs": [
        {
          "output_type": "stream",
          "text": [
            " \n",
            "Maximum temperature of Refrigerator 4 : \n",
            "\n",
            " 101.655\n"
          ],
          "name": "stdout"
        }
      ]
    },
    {
      "cell_type": "markdown",
      "metadata": {
        "id": "BwPqt5un-kMM"
      },
      "source": [
        "# **Average daily energy consumption of Refrigerator 1**"
      ]
    },
    {
      "cell_type": "code",
      "metadata": {
        "id": "A1R6v7XT6j7C"
      },
      "source": [
        "import datetime"
      ],
      "execution_count": null,
      "outputs": []
    },
    {
      "cell_type": "code",
      "metadata": {
        "id": "JQXBtKQt-0fF"
      },
      "source": [
        "#print(ref1_df)"
      ],
      "execution_count": null,
      "outputs": []
    },
    {
      "cell_type": "code",
      "metadata": {
        "id": "wuZCyJI-AP0t"
      },
      "source": [
        "ref1_df['dates'] = ref1_df['Datetime'].values"
      ],
      "execution_count": null,
      "outputs": []
    },
    {
      "cell_type": "code",
      "metadata": {
        "id": "TXG22l85CRaw"
      },
      "source": [
        "ref1_df['dates'] = ref1_df['dates'].astype(str)"
      ],
      "execution_count": null,
      "outputs": []
    },
    {
      "cell_type": "code",
      "metadata": {
        "id": "3KKlXGWECfM-"
      },
      "source": [
        "ref1_df['dates'] = np.array([x.split(' ')[0] for x in  ref1_df['dates'].values])"
      ],
      "execution_count": null,
      "outputs": []
    },
    {
      "cell_type": "code",
      "metadata": {
        "id": "_-B4IEb-EfNK",
        "outputId": "0c915264-7bf9-4d89-a6bb-3b41f2606a2c",
        "colab": {
          "base_uri": "https://localhost:8080/",
          "height": 204
        }
      },
      "source": [
        "ref1_df.head()"
      ],
      "execution_count": null,
      "outputs": [
        {
          "output_type": "execute_result",
          "data": {
            "text/html": [
              "<div>\n",
              "<style scoped>\n",
              "    .dataframe tbody tr th:only-of-type {\n",
              "        vertical-align: middle;\n",
              "    }\n",
              "\n",
              "    .dataframe tbody tr th {\n",
              "        vertical-align: top;\n",
              "    }\n",
              "\n",
              "    .dataframe thead th {\n",
              "        text-align: right;\n",
              "    }\n",
              "</style>\n",
              "<table border=\"1\" class=\"dataframe\">\n",
              "  <thead>\n",
              "    <tr style=\"text-align: right;\">\n",
              "      <th></th>\n",
              "      <th>Datetime</th>\n",
              "      <th>Power</th>\n",
              "      <th>Temperature</th>\n",
              "      <th>dates</th>\n",
              "    </tr>\n",
              "  </thead>\n",
              "  <tbody>\n",
              "    <tr>\n",
              "      <th>2</th>\n",
              "      <td>2017-08-01 00:00:00</td>\n",
              "      <td>2.2585</td>\n",
              "      <td>4.81</td>\n",
              "      <td>2017-08-01</td>\n",
              "    </tr>\n",
              "    <tr>\n",
              "      <th>3</th>\n",
              "      <td>2017-08-01 00:01:00</td>\n",
              "      <td>2.2035</td>\n",
              "      <td>3.9</td>\n",
              "      <td>2017-08-01</td>\n",
              "    </tr>\n",
              "    <tr>\n",
              "      <th>4</th>\n",
              "      <td>2017-08-01 00:02:00</td>\n",
              "      <td>2.13</td>\n",
              "      <td>3.155</td>\n",
              "      <td>2017-08-01</td>\n",
              "    </tr>\n",
              "    <tr>\n",
              "      <th>5</th>\n",
              "      <td>2017-08-01 00:03:00</td>\n",
              "      <td>2.1425</td>\n",
              "      <td>2.715</td>\n",
              "      <td>2017-08-01</td>\n",
              "    </tr>\n",
              "    <tr>\n",
              "      <th>6</th>\n",
              "      <td>2017-08-01 00:04:00</td>\n",
              "      <td>1.225</td>\n",
              "      <td>2.31</td>\n",
              "      <td>2017-08-01</td>\n",
              "    </tr>\n",
              "  </tbody>\n",
              "</table>\n",
              "</div>"
            ],
            "text/plain": [
              "              Datetime   Power Temperature       dates\n",
              "2  2017-08-01 00:00:00  2.2585        4.81  2017-08-01\n",
              "3  2017-08-01 00:01:00  2.2035         3.9  2017-08-01\n",
              "4  2017-08-01 00:02:00    2.13       3.155  2017-08-01\n",
              "5  2017-08-01 00:03:00  2.1425       2.715  2017-08-01\n",
              "6  2017-08-01 00:04:00   1.225        2.31  2017-08-01"
            ]
          },
          "metadata": {
            "tags": []
          },
          "execution_count": 50
        }
      ]
    },
    {
      "cell_type": "code",
      "metadata": {
        "id": "R2bLMdf7NOIR"
      },
      "source": [
        "ref1_df.fillna(0, inplace = True)\n",
        "ref1_df['Power'] = ref1_df['Power'].astype(float)"
      ],
      "execution_count": null,
      "outputs": []
    },
    {
      "cell_type": "code",
      "metadata": {
        "id": "p6dBZVSMFN3Y",
        "outputId": "8a2835b2-39ca-4c6e-9590-2de342591269",
        "colab": {
          "base_uri": "https://localhost:8080/",
          "height": 221
        }
      },
      "source": [
        "ref1_df1=ref1_df.groupby('dates')['Power'].mean()\n",
        "ref1_df1"
      ],
      "execution_count": null,
      "outputs": [
        {
          "output_type": "execute_result",
          "data": {
            "text/plain": [
              "dates\n",
              "2017-08-01    1.190107\n",
              "2017-08-02    1.140659\n",
              "2017-08-03    1.075128\n",
              "2017-08-04    1.161720\n",
              "2017-08-05    1.119115\n",
              "2017-08-06    1.235533\n",
              "2017-08-07    1.078486\n",
              "2017-08-08    1.051127\n",
              "2017-08-09    1.043460\n",
              "2017-08-10    1.078548\n",
              "Name: Power, dtype: float64"
            ]
          },
          "metadata": {
            "tags": []
          },
          "execution_count": 52
        }
      ]
    },
    {
      "cell_type": "code",
      "metadata": {
        "id": "Yf46pCrLSOw_",
        "outputId": "2b29bcae-bec7-405c-f07e-b2777f6e480f",
        "colab": {
          "base_uri": "https://localhost:8080/",
          "height": 85
        }
      },
      "source": [
        "print(\" \\nAverage energy consumption of Refrigerator 1 : \\n\\n\",np.mean(ref1_df1,0))"
      ],
      "execution_count": null,
      "outputs": [
        {
          "output_type": "stream",
          "text": [
            " \n",
            "Average energy consumption of Refrigerator 1 : \n",
            "\n",
            " 1.117388263888889\n"
          ],
          "name": "stdout"
        }
      ]
    },
    {
      "cell_type": "markdown",
      "metadata": {
        "id": "FhUuWnSjRRls"
      },
      "source": [
        "# **Average daily energy consumption of Refrigerator 2**"
      ]
    },
    {
      "cell_type": "code",
      "metadata": {
        "id": "FMXVghXqFc_A",
        "outputId": "5574922a-f9bc-4818-999e-c2df9f327e50",
        "colab": {
          "base_uri": "https://localhost:8080/",
          "height": 204
        }
      },
      "source": [
        "ref2_df['dates'] = ref2_df['Datetime'].values\n",
        "ref2_df['dates'] = ref2_df['dates'].astype(str)\n",
        "ref2_df['dates'] = np.array([x.split(' ')[0] for x in  ref2_df['dates'].values])\n",
        "ref2_df.head()"
      ],
      "execution_count": null,
      "outputs": [
        {
          "output_type": "execute_result",
          "data": {
            "text/html": [
              "<div>\n",
              "<style scoped>\n",
              "    .dataframe tbody tr th:only-of-type {\n",
              "        vertical-align: middle;\n",
              "    }\n",
              "\n",
              "    .dataframe tbody tr th {\n",
              "        vertical-align: top;\n",
              "    }\n",
              "\n",
              "    .dataframe thead th {\n",
              "        text-align: right;\n",
              "    }\n",
              "</style>\n",
              "<table border=\"1\" class=\"dataframe\">\n",
              "  <thead>\n",
              "    <tr style=\"text-align: right;\">\n",
              "      <th></th>\n",
              "      <th>Datetime</th>\n",
              "      <th>Power</th>\n",
              "      <th>Temperature</th>\n",
              "      <th>dates</th>\n",
              "    </tr>\n",
              "  </thead>\n",
              "  <tbody>\n",
              "    <tr>\n",
              "      <th>2</th>\n",
              "      <td>2017-08-01 00:00:00</td>\n",
              "      <td>3.231</td>\n",
              "      <td>0.495</td>\n",
              "      <td>2017-08-01</td>\n",
              "    </tr>\n",
              "    <tr>\n",
              "      <th>3</th>\n",
              "      <td>2017-08-01 00:01:00</td>\n",
              "      <td>3.188</td>\n",
              "      <td>0.245</td>\n",
              "      <td>2017-08-01</td>\n",
              "    </tr>\n",
              "    <tr>\n",
              "      <th>4</th>\n",
              "      <td>2017-08-01 00:02:00</td>\n",
              "      <td>3.1845</td>\n",
              "      <td>0</td>\n",
              "      <td>2017-08-01</td>\n",
              "    </tr>\n",
              "    <tr>\n",
              "      <th>5</th>\n",
              "      <td>2017-08-01 00:03:00</td>\n",
              "      <td>3.1695</td>\n",
              "      <td>-0.215</td>\n",
              "      <td>2017-08-01</td>\n",
              "    </tr>\n",
              "    <tr>\n",
              "      <th>6</th>\n",
              "      <td>2017-08-01 00:04:00</td>\n",
              "      <td>3.1735</td>\n",
              "      <td>-0.495</td>\n",
              "      <td>2017-08-01</td>\n",
              "    </tr>\n",
              "  </tbody>\n",
              "</table>\n",
              "</div>"
            ],
            "text/plain": [
              "              Datetime   Power Temperature       dates\n",
              "2  2017-08-01 00:00:00   3.231       0.495  2017-08-01\n",
              "3  2017-08-01 00:01:00   3.188       0.245  2017-08-01\n",
              "4  2017-08-01 00:02:00  3.1845           0  2017-08-01\n",
              "5  2017-08-01 00:03:00  3.1695      -0.215  2017-08-01\n",
              "6  2017-08-01 00:04:00  3.1735      -0.495  2017-08-01"
            ]
          },
          "metadata": {
            "tags": []
          },
          "execution_count": 54
        }
      ]
    },
    {
      "cell_type": "code",
      "metadata": {
        "id": "FPqYPOPFIupb"
      },
      "source": [
        "ref2_df.fillna(0, inplace = True)\n",
        "ref2_df['Power'] = ref2_df['Power'].astype(float)"
      ],
      "execution_count": null,
      "outputs": []
    },
    {
      "cell_type": "code",
      "metadata": {
        "id": "U-kEx5PNUMjy",
        "outputId": "f7cdccc3-81ce-470c-9ded-d3d88e3c0ca6",
        "colab": {
          "base_uri": "https://localhost:8080/",
          "height": 221
        }
      },
      "source": [
        "ref2_df2=ref2_df.groupby('dates')['Power'].mean()\n",
        "ref2_df2"
      ],
      "execution_count": null,
      "outputs": [
        {
          "output_type": "execute_result",
          "data": {
            "text/plain": [
              "dates\n",
              "2017-08-01    1.657013\n",
              "2017-08-02    1.596978\n",
              "2017-08-03    1.653283\n",
              "2017-08-04    1.728209\n",
              "2017-08-05    1.433434\n",
              "2017-08-06    1.761738\n",
              "2017-08-07    1.603699\n",
              "2017-08-08    1.720998\n",
              "2017-08-09    1.618228\n",
              "2017-08-10    1.724669\n",
              "Name: Power, dtype: float64"
            ]
          },
          "metadata": {
            "tags": []
          },
          "execution_count": 56
        }
      ]
    },
    {
      "cell_type": "code",
      "metadata": {
        "id": "Ux0RmKWuUP0p",
        "outputId": "a1c3c797-7dcd-4a02-8b97-9a228d814c48",
        "colab": {
          "base_uri": "https://localhost:8080/",
          "height": 85
        }
      },
      "source": [
        "print(\" \\nAverage energy consumption of Refrigerator 2 : \\n\\n\",np.mean(ref2_df2,0))"
      ],
      "execution_count": null,
      "outputs": [
        {
          "output_type": "stream",
          "text": [
            " \n",
            "Average energy consumption of Refrigerator 2 : \n",
            "\n",
            " 1.6498248263888908\n"
          ],
          "name": "stdout"
        }
      ]
    },
    {
      "cell_type": "markdown",
      "metadata": {
        "id": "ztOyXhTHUetT"
      },
      "source": [
        "# **Average daily energy consumption of Refrigerator 3**"
      ]
    },
    {
      "cell_type": "code",
      "metadata": {
        "id": "HLYg8jelUbI2",
        "outputId": "ee3197d2-0c1f-4a91-d4fb-0ef843fe6b55",
        "colab": {
          "base_uri": "https://localhost:8080/",
          "height": 204
        }
      },
      "source": [
        "ref3_df['dates'] = ref3_df['Datetime'].values\n",
        "ref3_df['dates'] = ref3_df['dates'].astype(str)\n",
        "ref3_df['dates'] = np.array([x.split(' ')[0] for x in  ref3_df['dates'].values])\n",
        "ref3_df.head()"
      ],
      "execution_count": null,
      "outputs": [
        {
          "output_type": "execute_result",
          "data": {
            "text/html": [
              "<div>\n",
              "<style scoped>\n",
              "    .dataframe tbody tr th:only-of-type {\n",
              "        vertical-align: middle;\n",
              "    }\n",
              "\n",
              "    .dataframe tbody tr th {\n",
              "        vertical-align: top;\n",
              "    }\n",
              "\n",
              "    .dataframe thead th {\n",
              "        text-align: right;\n",
              "    }\n",
              "</style>\n",
              "<table border=\"1\" class=\"dataframe\">\n",
              "  <thead>\n",
              "    <tr style=\"text-align: right;\">\n",
              "      <th></th>\n",
              "      <th>Datetime</th>\n",
              "      <th>Power</th>\n",
              "      <th>Temperature</th>\n",
              "      <th>dates</th>\n",
              "    </tr>\n",
              "  </thead>\n",
              "  <tbody>\n",
              "    <tr>\n",
              "      <th>2</th>\n",
              "      <td>2017-08-01 00:00:00</td>\n",
              "      <td>0</td>\n",
              "      <td>8.93</td>\n",
              "      <td>2017-08-01</td>\n",
              "    </tr>\n",
              "    <tr>\n",
              "      <th>3</th>\n",
              "      <td>2017-08-01 00:01:00</td>\n",
              "      <td>0</td>\n",
              "      <td>8.9</td>\n",
              "      <td>2017-08-01</td>\n",
              "    </tr>\n",
              "    <tr>\n",
              "      <th>4</th>\n",
              "      <td>2017-08-01 00:02:00</td>\n",
              "      <td>0</td>\n",
              "      <td>8.87</td>\n",
              "      <td>2017-08-01</td>\n",
              "    </tr>\n",
              "    <tr>\n",
              "      <th>5</th>\n",
              "      <td>2017-08-01 00:03:00</td>\n",
              "      <td>0</td>\n",
              "      <td>8.81</td>\n",
              "      <td>2017-08-01</td>\n",
              "    </tr>\n",
              "    <tr>\n",
              "      <th>6</th>\n",
              "      <td>2017-08-01 00:04:00</td>\n",
              "      <td>0</td>\n",
              "      <td>8.81</td>\n",
              "      <td>2017-08-01</td>\n",
              "    </tr>\n",
              "  </tbody>\n",
              "</table>\n",
              "</div>"
            ],
            "text/plain": [
              "              Datetime Power Temperature       dates\n",
              "2  2017-08-01 00:00:00     0        8.93  2017-08-01\n",
              "3  2017-08-01 00:01:00     0         8.9  2017-08-01\n",
              "4  2017-08-01 00:02:00     0        8.87  2017-08-01\n",
              "5  2017-08-01 00:03:00     0        8.81  2017-08-01\n",
              "6  2017-08-01 00:04:00     0        8.81  2017-08-01"
            ]
          },
          "metadata": {
            "tags": []
          },
          "execution_count": 58
        }
      ]
    },
    {
      "cell_type": "code",
      "metadata": {
        "id": "AraALReNUs-v"
      },
      "source": [
        "ref3_df.fillna(0, inplace = True)\n",
        "ref3_df['Power'] = ref3_df['Power'].astype(float)"
      ],
      "execution_count": null,
      "outputs": []
    },
    {
      "cell_type": "code",
      "metadata": {
        "id": "wxnHik79U05r",
        "outputId": "ec6767a5-532b-4f91-f688-ee2b5395d356",
        "colab": {
          "base_uri": "https://localhost:8080/",
          "height": 221
        }
      },
      "source": [
        "ref3_df3=ref3_df.groupby('dates')['Power'].mean()\n",
        "ref3_df3"
      ],
      "execution_count": null,
      "outputs": [
        {
          "output_type": "execute_result",
          "data": {
            "text/plain": [
              "dates\n",
              "2017-08-01    1.478483\n",
              "2017-08-02    1.596514\n",
              "2017-08-03    1.554663\n",
              "2017-08-04    1.541611\n",
              "2017-08-05    1.655300\n",
              "2017-08-06    1.604992\n",
              "2017-08-07    1.120285\n",
              "2017-08-08    1.766105\n",
              "2017-08-09    1.619632\n",
              "2017-08-10    1.839346\n",
              "Name: Power, dtype: float64"
            ]
          },
          "metadata": {
            "tags": []
          },
          "execution_count": 60
        }
      ]
    },
    {
      "cell_type": "code",
      "metadata": {
        "id": "kh2xacHEU9f7",
        "outputId": "26cd853f-d461-4350-f080-6fba948f11e2",
        "colab": {
          "base_uri": "https://localhost:8080/",
          "height": 85
        }
      },
      "source": [
        "print(\" \\nAverage energy consumption of Refrigerator 3 : \\n\\n\",np.mean(ref3_df3,0))"
      ],
      "execution_count": null,
      "outputs": [
        {
          "output_type": "stream",
          "text": [
            " \n",
            "Average energy consumption of Refrigerator 3 : \n",
            "\n",
            " 1.5776931828703704\n"
          ],
          "name": "stdout"
        }
      ]
    },
    {
      "cell_type": "markdown",
      "metadata": {
        "id": "x6g5T65yVGEl"
      },
      "source": [
        "# **Average daily energy consumption of Refrigerator 4**"
      ]
    },
    {
      "cell_type": "code",
      "metadata": {
        "id": "6SbJaHV0VC6S",
        "outputId": "76f8f591-0c26-40dc-c20e-b14857a558b1",
        "colab": {
          "base_uri": "https://localhost:8080/",
          "height": 204
        }
      },
      "source": [
        "ref4_df['dates'] = ref4_df['Datetime'].values\n",
        "ref4_df['dates'] = ref4_df['dates'].astype(str)\n",
        "ref4_df['dates'] = np.array([x.split(' ')[0] for x in  ref4_df['dates'].values])\n",
        "ref4_df.head()"
      ],
      "execution_count": null,
      "outputs": [
        {
          "output_type": "execute_result",
          "data": {
            "text/html": [
              "<div>\n",
              "<style scoped>\n",
              "    .dataframe tbody tr th:only-of-type {\n",
              "        vertical-align: middle;\n",
              "    }\n",
              "\n",
              "    .dataframe tbody tr th {\n",
              "        vertical-align: top;\n",
              "    }\n",
              "\n",
              "    .dataframe thead th {\n",
              "        text-align: right;\n",
              "    }\n",
              "</style>\n",
              "<table border=\"1\" class=\"dataframe\">\n",
              "  <thead>\n",
              "    <tr style=\"text-align: right;\">\n",
              "      <th></th>\n",
              "      <th>Datetime</th>\n",
              "      <th>Power</th>\n",
              "      <th>Temperature</th>\n",
              "      <th>dates</th>\n",
              "    </tr>\n",
              "  </thead>\n",
              "  <tbody>\n",
              "    <tr>\n",
              "      <th>2</th>\n",
              "      <td>2017-08-01 00:00:00</td>\n",
              "      <td>0.308</td>\n",
              "      <td>3.34</td>\n",
              "      <td>2017-08-01</td>\n",
              "    </tr>\n",
              "    <tr>\n",
              "      <th>3</th>\n",
              "      <td>2017-08-01 00:01:00</td>\n",
              "      <td>1.338</td>\n",
              "      <td>3.435</td>\n",
              "      <td>2017-08-01</td>\n",
              "    </tr>\n",
              "    <tr>\n",
              "      <th>4</th>\n",
              "      <td>2017-08-01 00:02:00</td>\n",
              "      <td>2.3695</td>\n",
              "      <td>2.715</td>\n",
              "      <td>2017-08-01</td>\n",
              "    </tr>\n",
              "    <tr>\n",
              "      <th>5</th>\n",
              "      <td>2017-08-01 00:03:00</td>\n",
              "      <td>2.2265</td>\n",
              "      <td>2.125</td>\n",
              "      <td>2017-08-01</td>\n",
              "    </tr>\n",
              "    <tr>\n",
              "      <th>6</th>\n",
              "      <td>2017-08-01 00:04:00</td>\n",
              "      <td>2.231</td>\n",
              "      <td>1.745</td>\n",
              "      <td>2017-08-01</td>\n",
              "    </tr>\n",
              "  </tbody>\n",
              "</table>\n",
              "</div>"
            ],
            "text/plain": [
              "              Datetime   Power Temperature       dates\n",
              "2  2017-08-01 00:00:00   0.308        3.34  2017-08-01\n",
              "3  2017-08-01 00:01:00   1.338       3.435  2017-08-01\n",
              "4  2017-08-01 00:02:00  2.3695       2.715  2017-08-01\n",
              "5  2017-08-01 00:03:00  2.2265       2.125  2017-08-01\n",
              "6  2017-08-01 00:04:00   2.231       1.745  2017-08-01"
            ]
          },
          "metadata": {
            "tags": []
          },
          "execution_count": 62
        }
      ]
    },
    {
      "cell_type": "code",
      "metadata": {
        "id": "FQbgqbcwVS1x"
      },
      "source": [
        "ref4_df.fillna(0, inplace = True)\n",
        "ref4_df['Power'] = ref4_df['Power'].astype(float)"
      ],
      "execution_count": null,
      "outputs": []
    },
    {
      "cell_type": "code",
      "metadata": {
        "id": "MykIGXsxVZ92",
        "outputId": "5183f201-8bcd-40f1-8b16-862227d3358f",
        "colab": {
          "base_uri": "https://localhost:8080/",
          "height": 221
        }
      },
      "source": [
        "ref4_df4=ref4_df.groupby('dates')['Power'].mean()\n",
        "ref4_df4"
      ],
      "execution_count": null,
      "outputs": [
        {
          "output_type": "execute_result",
          "data": {
            "text/plain": [
              "dates\n",
              "2017-08-01    1.154921\n",
              "2017-08-02    1.319603\n",
              "2017-08-03    1.258080\n",
              "2017-08-04    0.914981\n",
              "2017-08-05    1.227346\n",
              "2017-08-06    1.242848\n",
              "2017-08-07    1.207620\n",
              "2017-08-08    1.369650\n",
              "2017-08-09    1.439618\n",
              "2017-08-10    1.402834\n",
              "Name: Power, dtype: float64"
            ]
          },
          "metadata": {
            "tags": []
          },
          "execution_count": 64
        }
      ]
    },
    {
      "cell_type": "code",
      "metadata": {
        "id": "u_Z6Xeo6VhJQ",
        "outputId": "e8aad867-379b-4c6a-9401-f57c8c3266b5",
        "colab": {
          "base_uri": "https://localhost:8080/",
          "height": 85
        }
      },
      "source": [
        "print(\" \\nAverage energy consumption of Refrigerator 4 : \\n\\n\",np.mean(ref4_df4,0))"
      ],
      "execution_count": null,
      "outputs": [
        {
          "output_type": "stream",
          "text": [
            " \n",
            "Average energy consumption of Refrigerator 4 : \n",
            "\n",
            " 1.253750069444443\n"
          ],
          "name": "stdout"
        }
      ]
    },
    {
      "cell_type": "markdown",
      "metadata": {
        "id": "8Hv94PO4XAw1"
      },
      "source": [
        "# **Percentage of temperature compliance of Refrigerator 1**"
      ]
    },
    {
      "cell_type": "code",
      "metadata": {
        "id": "gGe4KMIPVmEo",
        "outputId": "f89ff2f2-aa37-4d03-b7f0-7f2477996da3",
        "colab": {
          "base_uri": "https://localhost:8080/",
          "height": 255
        }
      },
      "source": [
        "df1 = pd.DataFrame(ref1_df['Temperature'])\n",
        "def count_values_in_range(series, range_min, range_max):\n",
        "  return series.between(left=range_min, right=range_max).sum()\n",
        "\n",
        "range_min, range_max = 1, 4\n",
        "df1[\"n_values_in_range\"] = df1.apply(\n",
        "    func=lambda row: count_values_in_range(row, range_min, range_max), axis=1)\n",
        "\n",
        "print(df1)"
      ],
      "execution_count": null,
      "outputs": [
        {
          "output_type": "stream",
          "text": [
            "       Temperature  n_values_in_range\n",
            "2            4.810                  0\n",
            "3            3.900                  1\n",
            "4            3.155                  1\n",
            "5            2.715                  1\n",
            "6            2.310                  1\n",
            "...            ...                ...\n",
            "14397        4.840                  0\n",
            "14398        4.685                  0\n",
            "14399        3.900                  1\n",
            "14400        3.275                  1\n",
            "14401        2.905                  1\n",
            "\n",
            "[14400 rows x 2 columns]\n"
          ],
          "name": "stdout"
        }
      ]
    },
    {
      "cell_type": "code",
      "metadata": {
        "id": "552slK7dZp-l",
        "outputId": "2fe14911-1732-466d-ad20-eda3cf5d8fb1",
        "colab": {
          "base_uri": "https://localhost:8080/",
          "height": 85
        }
      },
      "source": [
        "df1.value_counts('n_values_in_range')"
      ],
      "execution_count": null,
      "outputs": [
        {
          "output_type": "execute_result",
          "data": {
            "text/plain": [
              "n_values_in_range\n",
              "1    8034\n",
              "0    6366\n",
              "dtype: int64"
            ]
          },
          "metadata": {
            "tags": []
          },
          "execution_count": 74
        }
      ]
    },
    {
      "cell_type": "code",
      "metadata": {
        "id": "fKkrztyZe_wD",
        "outputId": "c0eb90d1-bb0b-45fb-8091-482a4758c8c2",
        "colab": {
          "base_uri": "https://localhost:8080/",
          "height": 85
        }
      },
      "source": [
        "a1 = 8034\n",
        "b1 = len(ref1_df)\n",
        "print(\" \\nPercentage of Temperature Compliance of Refrigerator 1 : \\n\\n\", (a1*100/b1))"
      ],
      "execution_count": null,
      "outputs": [
        {
          "output_type": "stream",
          "text": [
            " \n",
            "Percentage of Temperature Compliance of Refrigerator 1 : \n",
            "\n",
            " 55.791666666666664\n"
          ],
          "name": "stdout"
        }
      ]
    },
    {
      "cell_type": "markdown",
      "metadata": {
        "id": "Esk4-yeXsHs1"
      },
      "source": [
        "# **Percentage of temperature compliance of Refrigerator 2**"
      ]
    },
    {
      "cell_type": "code",
      "metadata": {
        "id": "AqW5_CoVhO3K",
        "outputId": "16d2da97-f34e-426e-c783-b7f36c5539af",
        "colab": {
          "base_uri": "https://localhost:8080/",
          "height": 255
        }
      },
      "source": [
        "df2 = pd.DataFrame(ref2_df['Temperature'])\n",
        "def count_values_in_range(series, range_min, range_max):\n",
        "  return series.between(left=range_min, right=range_max).sum()\n",
        "\n",
        "range_min, range_max = 1, 4\n",
        "df2[\"n_values_in_range\"] = df2.apply(\n",
        "    func=lambda row: count_values_in_range(row, range_min, range_max), axis=1)\n",
        "\n",
        "print(df2)"
      ],
      "execution_count": null,
      "outputs": [
        {
          "output_type": "stream",
          "text": [
            "       Temperature  n_values_in_range\n",
            "2            0.495                  0\n",
            "3            0.245                  0\n",
            "4            0.000                  0\n",
            "5           -0.215                  0\n",
            "6           -0.495                  0\n",
            "...            ...                ...\n",
            "14397       16.465                  0\n",
            "14398       16.500                  0\n",
            "14399       16.500                  0\n",
            "14400       16.530                  0\n",
            "14401       16.560                  0\n",
            "\n",
            "[14400 rows x 2 columns]\n"
          ],
          "name": "stdout"
        }
      ]
    },
    {
      "cell_type": "code",
      "metadata": {
        "id": "qwI1Kh25sgZX",
        "outputId": "3b93fb5c-d050-4e27-d607-052d99f87eaf",
        "colab": {
          "base_uri": "https://localhost:8080/",
          "height": 85
        }
      },
      "source": [
        "df2.value_counts('n_values_in_range')"
      ],
      "execution_count": null,
      "outputs": [
        {
          "output_type": "execute_result",
          "data": {
            "text/plain": [
              "n_values_in_range\n",
              "0    9985\n",
              "1    4415\n",
              "dtype: int64"
            ]
          },
          "metadata": {
            "tags": []
          },
          "execution_count": 77
        }
      ]
    },
    {
      "cell_type": "code",
      "metadata": {
        "id": "Dvy5hs9iskpn",
        "outputId": "b93018c8-0069-4589-ea23-578d2f8c2104",
        "colab": {
          "base_uri": "https://localhost:8080/",
          "height": 85
        }
      },
      "source": [
        "a2 = 4415\n",
        "b2 = len(ref2_df)\n",
        "print(\" \\nPercentage of Temperature Compliance of Refrigerator 2 : \\n\\n\", (a2*100/b2))"
      ],
      "execution_count": null,
      "outputs": [
        {
          "output_type": "stream",
          "text": [
            " \n",
            "Percentage of Temperature Compliance of Refrigerator 2 : \n",
            "\n",
            " 30.65972222222222\n"
          ],
          "name": "stdout"
        }
      ]
    },
    {
      "cell_type": "markdown",
      "metadata": {
        "id": "YkgPyljjs1lC"
      },
      "source": [
        "# **Percentage of temperature compliance of Refrigerator 3**"
      ]
    },
    {
      "cell_type": "code",
      "metadata": {
        "id": "01Ry-JVisyfF",
        "outputId": "d3e06110-887d-4bd0-ba5f-97a4a4b8ef2a",
        "colab": {
          "base_uri": "https://localhost:8080/",
          "height": 255
        }
      },
      "source": [
        "df3 = pd.DataFrame(ref3_df['Temperature'])\n",
        "def count_values_in_range(series, range_min, range_max):\n",
        "  return series.between(left=range_min, right=range_max).sum()\n",
        "\n",
        "range_min, range_max = 1, 4\n",
        "df3[\"n_values_in_range\"] = df3.apply(\n",
        "    func=lambda row: count_values_in_range(row, range_min, range_max), axis=1)\n",
        "\n",
        "print(df3)"
      ],
      "execution_count": null,
      "outputs": [
        {
          "output_type": "stream",
          "text": [
            "       Temperature  n_values_in_range\n",
            "2            8.930                  0\n",
            "3            8.900                  0\n",
            "4            8.870                  0\n",
            "5            8.810                  0\n",
            "6            8.810                  0\n",
            "...            ...                ...\n",
            "14397        3.680                  1\n",
            "14398        3.465                  1\n",
            "14399        2.935                  1\n",
            "14400        2.375                  1\n",
            "14401        1.965                  1\n",
            "\n",
            "[14400 rows x 2 columns]\n"
          ],
          "name": "stdout"
        }
      ]
    },
    {
      "cell_type": "code",
      "metadata": {
        "id": "yYhJ0mZ7tBxC",
        "outputId": "a5a663bf-ff02-4fb6-b317-29578ea8ba51",
        "colab": {
          "base_uri": "https://localhost:8080/",
          "height": 85
        }
      },
      "source": [
        "df3.value_counts('n_values_in_range')"
      ],
      "execution_count": null,
      "outputs": [
        {
          "output_type": "execute_result",
          "data": {
            "text/plain": [
              "n_values_in_range\n",
              "1    10530\n",
              "0     3870\n",
              "dtype: int64"
            ]
          },
          "metadata": {
            "tags": []
          },
          "execution_count": 80
        }
      ]
    },
    {
      "cell_type": "code",
      "metadata": {
        "id": "5UVvk2wWtI0R",
        "outputId": "1caef3bc-d95d-4c2e-dd38-dccaa91014d9",
        "colab": {
          "base_uri": "https://localhost:8080/",
          "height": 85
        }
      },
      "source": [
        "a3 = 10530\n",
        "b3 = len(ref3_df)\n",
        "print(\" \\nPercentage of Temperature Compliance of Refrigerator 3 : \\n\\n\", (a3*100/b3))"
      ],
      "execution_count": null,
      "outputs": [
        {
          "output_type": "stream",
          "text": [
            " \n",
            "Percentage of Temperature Compliance of Refrigerator 3 : \n",
            "\n",
            " 73.125\n"
          ],
          "name": "stdout"
        }
      ]
    },
    {
      "cell_type": "markdown",
      "metadata": {
        "id": "wOhkD29TtqpC"
      },
      "source": [
        "# **Percentage of temperature compliance of Refrigerator 4**"
      ]
    },
    {
      "cell_type": "code",
      "metadata": {
        "id": "dIiNN8dCtT-5",
        "outputId": "66225b8e-1266-425e-f1c6-a946014802e8",
        "colab": {
          "base_uri": "https://localhost:8080/",
          "height": 255
        }
      },
      "source": [
        "df4 = pd.DataFrame(ref4_df['Temperature'])\n",
        "def count_values_in_range(series, range_min, range_max):\n",
        "  return series.between(left=range_min, right=range_max).sum()\n",
        "\n",
        "range_min, range_max = 1, 4\n",
        "df4[\"n_values_in_range\"] = df4.apply(\n",
        "    func=lambda row: count_values_in_range(row, range_min, range_max), axis=1)\n",
        "\n",
        "print(df4)"
      ],
      "execution_count": null,
      "outputs": [
        {
          "output_type": "stream",
          "text": [
            "       Temperature  n_values_in_range\n",
            "2            3.340                  1\n",
            "3            3.435                  1\n",
            "4            2.715                  1\n",
            "5            2.125                  1\n",
            "6            1.745                  1\n",
            "...            ...                ...\n",
            "14397        1.435                  1\n",
            "14398        1.930                  1\n",
            "14399        2.620                  1\n",
            "14400        3.155                  1\n",
            "14401        3.435                  1\n",
            "\n",
            "[14400 rows x 2 columns]\n"
          ],
          "name": "stdout"
        }
      ]
    },
    {
      "cell_type": "code",
      "metadata": {
        "id": "juQnxn_Tt2ax",
        "outputId": "75ff2e28-80aa-455c-f64c-e5f5386b8f08",
        "colab": {
          "base_uri": "https://localhost:8080/",
          "height": 85
        }
      },
      "source": [
        "df4.value_counts('n_values_in_range')"
      ],
      "execution_count": null,
      "outputs": [
        {
          "output_type": "execute_result",
          "data": {
            "text/plain": [
              "n_values_in_range\n",
              "1    12347\n",
              "0     2053\n",
              "dtype: int64"
            ]
          },
          "metadata": {
            "tags": []
          },
          "execution_count": 83
        }
      ]
    },
    {
      "cell_type": "code",
      "metadata": {
        "id": "zXucAVHkt8u0",
        "outputId": "432a324c-fd53-4ea4-c800-aebd48f0f4fe",
        "colab": {
          "base_uri": "https://localhost:8080/",
          "height": 85
        }
      },
      "source": [
        "a4 = 12347\n",
        "b4 = len(ref4_df)\n",
        "print(\" \\nPercentage of Temperature Compliance of Refrigerator 4 : \\n\\n\", (a4*100/b4))"
      ],
      "execution_count": null,
      "outputs": [
        {
          "output_type": "stream",
          "text": [
            " \n",
            "Percentage of Temperature Compliance of Refrigerator 4 : \n",
            "\n",
            " 85.74305555555556\n"
          ],
          "name": "stdout"
        }
      ]
    },
    {
      "cell_type": "code",
      "metadata": {
        "id": "BbH-6G_SuJoW"
      },
      "source": [
        ""
      ],
      "execution_count": null,
      "outputs": []
    }
  ]
}